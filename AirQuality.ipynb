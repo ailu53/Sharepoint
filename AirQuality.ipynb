{
  "cells": [
    {
      "cell_type": "code",
      "source": [
        "from pyspark.sql import SparkSession\r\n",
        "import pyspark.pandas as ps\r\n",
        "from pyspark.sql.functions import lit\r\n",
        "\r\n",
        "# Define connection properties\r\n",
        "url = \"jdbc:sqlserver://vijaytraining.sql.azuresynapse.net:1433;database=trainingsqlpl;user=sqladminuser;password=Vijay1234;encrypt=true;trustServerCertificate=false;hostNameInCertificate=*.sql.azuresynapse.net;loginTimeout=30\"\r\n",
        "properties = {\r\n",
        "    \"driver\": \"com.microsoft.sqlserver.jdbc.SQLServerDriver\"\r\n",
        "}\r\n",
        "\r\n",
        "\r\n",
        "file_path = \"abfss://vijay@synapsdl.dfs.core.windows.net/*.ndjson\"\r\n",
        "\r\n",
        "# Read the NDJSON file into a DataFrame\r\n",
        "df = spark.read.json(file_path)\r\n",
        "\r\n",
        "\r\n",
        "\r\n",
        "df = df.withColumn(\"date_utc\", lit(df[\"date.utc\"])) \\\r\n",
        "       .withColumn(\"date_local\", lit(df[\"date.local\"])) \\\r\n",
        "       .drop(\"date\")\r\n",
        "\r\n",
        "df = df.withColumn(\"averagingPeriod_unit\", df[\"averagingPeriod.unit\"]) \\\r\n",
        "       .withColumn(\"averagingPeriod_value\", df[\"averagingPeriod.value\"]) \\\r\n",
        "       .drop(\"averagingPeriod\")\r\n",
        "df = df.withColumn(\"coordinates_lat\", df[\"coordinates.latitude\"]) \\\r\n",
        "       .withColumn(\"coordinates_long\", df[\"coordinates.longitude\"]) \\\r\n",
        "       .drop(\"coordinates\")\r\n",
        "# Show the DataFrame to verify the transformation\r\n",
        "df=df.drop('attribution')\r\n",
        "df.toPandas()\r\n"
      ],
      "outputs": [
        {
          "output_type": "display_data",
          "data": {
            "application/vnd.livy.statement-meta+json": {
              "spark_pool": "trainingsparkpl",
              "session_id": "0",
              "statement_id": 282,
              "state": "finished",
              "livy_statement_state": "available",
              "queued_time": "2024-03-01T14:39:58.7270865Z",
              "session_start_time": null,
              "execution_start_time": "2024-03-01T14:39:58.8847355Z",
              "execution_finish_time": "2024-03-01T14:40:01.7522653Z",
              "spark_jobs": null,
              "parent_msg_id": "6a8fc8a5-f2f3-4bfe-b7d4-f09f9ecc3291"
            },
            "text/plain": "StatementMeta(trainingsparkpl, 0, 282, Finished, Available)"
          },
          "metadata": {}
        },
        {
          "output_type": "execute_result",
          "execution_count": 565,
          "data": {
            "text/plain": "                     city country                   location  mobile  \\\n0                   Kabul      AF  US Diplomatic Post: Kabul   False   \n1                   Kabul      AF  US Diplomatic Post: Kabul   False   \n2                   Kabul      AF  US Diplomatic Post: Kabul   False   \n3                   Kabul      AF  US Diplomatic Post: Kabul   False   \n4                   Kabul      AF  US Diplomatic Post: Kabul   False   \n...                   ...     ...                        ...     ...   \n77268  Reggio Di Calabria      IT                    IT2028A   False   \n77269       Bolzano/Bozen      IT                    IT0507A   False   \n77270              Napoli      IT                    IT1497A   False   \n77271              Latina      IT                    IT1184A   False   \n77272              Napoli      IT                    IT1491A   False   \n\n      parameter      sourceName  sourceType   unit       value  \\\n0          pm25  StateAir_Kabul  government  µg/m³ -999.000000   \n1          pm25  StateAir_Kabul  government  µg/m³ -999.000000   \n2          pm25  StateAir_Kabul  government  µg/m³ -999.000000   \n3          pm25  StateAir_Kabul  government  µg/m³ -999.000000   \n4          pm25  StateAir_Kabul  government  µg/m³ -999.000000   \n...         ...             ...         ...    ...         ...   \n77268       no2       EEA Italy  government  µg/m³   22.495998   \n77269       no2       EEA Italy  government  µg/m³   19.870000   \n77270       no2       EEA Italy  government  µg/m³    7.550000   \n77271       no2       EEA Italy  government  µg/m³   23.000000   \n77272       no2       EEA Italy  government  µg/m³   43.410000   \n\n                       date_utc                 date_local  \\\n0      2021-08-15T15:30:00.000Z  2021-08-15T20:00:00+04:30   \n1      2021-08-15T16:30:00.000Z  2021-08-15T21:00:00+04:30   \n2      2021-08-15T17:30:00.000Z  2021-08-15T22:00:00+04:30   \n3      2021-08-15T18:30:00.000Z  2021-08-15T23:00:00+04:30   \n4      2021-08-15T19:30:00.000Z  2021-08-16T00:00:00+04:30   \n...                         ...                        ...   \n77268  2021-10-06T13:00:00.000Z  2021-10-06T15:00:00+02:00   \n77269  2021-10-06T14:00:00.000Z  2021-10-06T16:00:00+02:00   \n77270  2021-10-06T13:00:00.000Z  2021-10-06T15:00:00+02:00   \n77271  2021-10-06T14:00:00.000Z  2021-10-06T16:00:00+02:00   \n77272  2021-10-06T14:00:00.000Z  2021-10-06T16:00:00+02:00   \n\n      averagingPeriod_unit  averagingPeriod_value  coordinates_lat  \\\n0                    hours                    1.0        34.535812   \n1                    hours                    1.0        34.535812   \n2                    hours                    1.0        34.535812   \n3                    hours                    1.0        34.535812   \n4                    hours                    1.0        34.535812   \n...                    ...                    ...              ...   \n77268                hours                    1.0        38.104950   \n77269                hours                    1.0        46.715280   \n77270                hours                    1.0        40.862778   \n77271                hours                    1.0        41.531389   \n77272                hours                    1.0        40.853610   \n\n       coordinates_long  \n0             69.190514  \n1             69.190514  \n2             69.190514  \n3             69.190514  \n4             69.190514  \n...                 ...  \n77268         15.638790  \n77269         11.654440  \n77270         14.254444  \n77271         12.946111  \n77272         14.271670  \n\n[77273 rows x 15 columns]",
            "text/html": "<div>\n<style scoped>\n    .dataframe tbody tr th:only-of-type {\n        vertical-align: middle;\n    }\n\n    .dataframe tbody tr th {\n        vertical-align: top;\n    }\n\n    .dataframe thead th {\n        text-align: right;\n    }\n</style>\n<table border=\"1\" class=\"dataframe\">\n  <thead>\n    <tr style=\"text-align: right;\">\n      <th></th>\n      <th>city</th>\n      <th>country</th>\n      <th>location</th>\n      <th>mobile</th>\n      <th>parameter</th>\n      <th>sourceName</th>\n      <th>sourceType</th>\n      <th>unit</th>\n      <th>value</th>\n      <th>date_utc</th>\n      <th>date_local</th>\n      <th>averagingPeriod_unit</th>\n      <th>averagingPeriod_value</th>\n      <th>coordinates_lat</th>\n      <th>coordinates_long</th>\n    </tr>\n  </thead>\n  <tbody>\n    <tr>\n      <th>0</th>\n      <td>Kabul</td>\n      <td>AF</td>\n      <td>US Diplomatic Post: Kabul</td>\n      <td>False</td>\n      <td>pm25</td>\n      <td>StateAir_Kabul</td>\n      <td>government</td>\n      <td>µg/m³</td>\n      <td>-999.000000</td>\n      <td>2021-08-15T15:30:00.000Z</td>\n      <td>2021-08-15T20:00:00+04:30</td>\n      <td>hours</td>\n      <td>1.0</td>\n      <td>34.535812</td>\n      <td>69.190514</td>\n    </tr>\n    <tr>\n      <th>1</th>\n      <td>Kabul</td>\n      <td>AF</td>\n      <td>US Diplomatic Post: Kabul</td>\n      <td>False</td>\n      <td>pm25</td>\n      <td>StateAir_Kabul</td>\n      <td>government</td>\n      <td>µg/m³</td>\n      <td>-999.000000</td>\n      <td>2021-08-15T16:30:00.000Z</td>\n      <td>2021-08-15T21:00:00+04:30</td>\n      <td>hours</td>\n      <td>1.0</td>\n      <td>34.535812</td>\n      <td>69.190514</td>\n    </tr>\n    <tr>\n      <th>2</th>\n      <td>Kabul</td>\n      <td>AF</td>\n      <td>US Diplomatic Post: Kabul</td>\n      <td>False</td>\n      <td>pm25</td>\n      <td>StateAir_Kabul</td>\n      <td>government</td>\n      <td>µg/m³</td>\n      <td>-999.000000</td>\n      <td>2021-08-15T17:30:00.000Z</td>\n      <td>2021-08-15T22:00:00+04:30</td>\n      <td>hours</td>\n      <td>1.0</td>\n      <td>34.535812</td>\n      <td>69.190514</td>\n    </tr>\n    <tr>\n      <th>3</th>\n      <td>Kabul</td>\n      <td>AF</td>\n      <td>US Diplomatic Post: Kabul</td>\n      <td>False</td>\n      <td>pm25</td>\n      <td>StateAir_Kabul</td>\n      <td>government</td>\n      <td>µg/m³</td>\n      <td>-999.000000</td>\n      <td>2021-08-15T18:30:00.000Z</td>\n      <td>2021-08-15T23:00:00+04:30</td>\n      <td>hours</td>\n      <td>1.0</td>\n      <td>34.535812</td>\n      <td>69.190514</td>\n    </tr>\n    <tr>\n      <th>4</th>\n      <td>Kabul</td>\n      <td>AF</td>\n      <td>US Diplomatic Post: Kabul</td>\n      <td>False</td>\n      <td>pm25</td>\n      <td>StateAir_Kabul</td>\n      <td>government</td>\n      <td>µg/m³</td>\n      <td>-999.000000</td>\n      <td>2021-08-15T19:30:00.000Z</td>\n      <td>2021-08-16T00:00:00+04:30</td>\n      <td>hours</td>\n      <td>1.0</td>\n      <td>34.535812</td>\n      <td>69.190514</td>\n    </tr>\n    <tr>\n      <th>...</th>\n      <td>...</td>\n      <td>...</td>\n      <td>...</td>\n      <td>...</td>\n      <td>...</td>\n      <td>...</td>\n      <td>...</td>\n      <td>...</td>\n      <td>...</td>\n      <td>...</td>\n      <td>...</td>\n      <td>...</td>\n      <td>...</td>\n      <td>...</td>\n      <td>...</td>\n    </tr>\n    <tr>\n      <th>77268</th>\n      <td>Reggio Di Calabria</td>\n      <td>IT</td>\n      <td>IT2028A</td>\n      <td>False</td>\n      <td>no2</td>\n      <td>EEA Italy</td>\n      <td>government</td>\n      <td>µg/m³</td>\n      <td>22.495998</td>\n      <td>2021-10-06T13:00:00.000Z</td>\n      <td>2021-10-06T15:00:00+02:00</td>\n      <td>hours</td>\n      <td>1.0</td>\n      <td>38.104950</td>\n      <td>15.638790</td>\n    </tr>\n    <tr>\n      <th>77269</th>\n      <td>Bolzano/Bozen</td>\n      <td>IT</td>\n      <td>IT0507A</td>\n      <td>False</td>\n      <td>no2</td>\n      <td>EEA Italy</td>\n      <td>government</td>\n      <td>µg/m³</td>\n      <td>19.870000</td>\n      <td>2021-10-06T14:00:00.000Z</td>\n      <td>2021-10-06T16:00:00+02:00</td>\n      <td>hours</td>\n      <td>1.0</td>\n      <td>46.715280</td>\n      <td>11.654440</td>\n    </tr>\n    <tr>\n      <th>77270</th>\n      <td>Napoli</td>\n      <td>IT</td>\n      <td>IT1497A</td>\n      <td>False</td>\n      <td>no2</td>\n      <td>EEA Italy</td>\n      <td>government</td>\n      <td>µg/m³</td>\n      <td>7.550000</td>\n      <td>2021-10-06T13:00:00.000Z</td>\n      <td>2021-10-06T15:00:00+02:00</td>\n      <td>hours</td>\n      <td>1.0</td>\n      <td>40.862778</td>\n      <td>14.254444</td>\n    </tr>\n    <tr>\n      <th>77271</th>\n      <td>Latina</td>\n      <td>IT</td>\n      <td>IT1184A</td>\n      <td>False</td>\n      <td>no2</td>\n      <td>EEA Italy</td>\n      <td>government</td>\n      <td>µg/m³</td>\n      <td>23.000000</td>\n      <td>2021-10-06T14:00:00.000Z</td>\n      <td>2021-10-06T16:00:00+02:00</td>\n      <td>hours</td>\n      <td>1.0</td>\n      <td>41.531389</td>\n      <td>12.946111</td>\n    </tr>\n    <tr>\n      <th>77272</th>\n      <td>Napoli</td>\n      <td>IT</td>\n      <td>IT1491A</td>\n      <td>False</td>\n      <td>no2</td>\n      <td>EEA Italy</td>\n      <td>government</td>\n      <td>µg/m³</td>\n      <td>43.410000</td>\n      <td>2021-10-06T14:00:00.000Z</td>\n      <td>2021-10-06T16:00:00+02:00</td>\n      <td>hours</td>\n      <td>1.0</td>\n      <td>40.853610</td>\n      <td>14.271670</td>\n    </tr>\n  </tbody>\n</table>\n<p>77273 rows × 15 columns</p>\n</div>"
          },
          "metadata": {}
        }
      ],
      "execution_count": 281,
      "metadata": {
        "jupyter": {
          "source_hidden": false,
          "outputs_hidden": false
        },
        "nteract": {
          "transient": {
            "deleting": false
          }
        }
      }
    },
    {
      "cell_type": "code",
      "source": [
        "\r\n",
        "\r\n",
        "# Define the target table name in your dedicated SQL pool\r\n",
        "table_name = \"air_quality\"\r\n",
        "#df = df.withColumn(\"city\", df[\"city\"].cast(\"string\"))\r\n",
        "# Write the DataFrame to the dedicated SQL pool\r\n",
        "df.write.jdbc(url=url, table=table_name, mode=\"append\", properties=properties)\r\n"
      ],
      "outputs": [
        {
          "output_type": "display_data",
          "data": {
            "application/vnd.livy.statement-meta+json": {
              "spark_pool": "trainingsparkpl",
              "session_id": "0",
              "statement_id": 283,
              "state": "finished",
              "livy_statement_state": "cancelled",
              "queued_time": "2024-03-01T14:39:58.7606044Z",
              "session_start_time": null,
              "execution_start_time": "2024-03-01T14:40:01.9030289Z",
              "execution_finish_time": "2024-03-01T14:41:45.4449733Z",
              "spark_jobs": null,
              "parent_msg_id": "74de6bfe-9e6e-4af4-b43f-61244d385b2b"
            },
            "text/plain": "StatementMeta(trainingsparkpl, 0, 283, Finished, Cancelled)"
          },
          "metadata": {}
        }
      ],
      "execution_count": 282,
      "metadata": {
        "jupyter": {
          "source_hidden": false,
          "outputs_hidden": false
        },
        "nteract": {
          "transient": {
            "deleting": false
          }
        }
      }
    },
    {
      "cell_type": "code",
      "source": [
        "path = \"abfss://vijay@synapsdl.dfs.core.windows.net/countries.csv\"\r\n",
        "\r\n",
        "df = spark.read.option(\"header\", True).csv(path)\r\n",
        "df.show()\r\n",
        "df.write.jdbc(url=url, table='country', mode=\"append\", properties=properties)"
      ],
      "outputs": [
        {
          "output_type": "display_data",
          "data": {
            "application/vnd.livy.statement-meta+json": {
              "spark_pool": null,
              "session_id": null,
              "statement_id": null,
              "state": "cancelled",
              "livy_statement_state": null,
              "queued_time": "2024-03-01T14:39:58.806905Z",
              "session_start_time": null,
              "execution_start_time": null,
              "execution_finish_time": "2024-03-01T14:41:45.1132376Z",
              "spark_jobs": null,
              "parent_msg_id": "b64635ca-abff-4b0e-8dfd-842a2d59000d"
            },
            "text/plain": "StatementMeta(, , , Cancelled, )"
          },
          "metadata": {}
        }
      ],
      "execution_count": null,
      "metadata": {
        "jupyter": {
          "source_hidden": false,
          "outputs_hidden": false
        },
        "nteract": {
          "transient": {
            "deleting": false
          }
        }
      }
    },
    {
      "cell_type": "code",
      "source": [
        "\r\n",
        "\r\n",
        "df_air = spark.read.jdbc(url=url, table=\"air_quality\", properties=properties)\r\n",
        "df_country = spark.read.jdbc(url=url, table=\"country\", properties=properties)\r\n"
      ],
      "outputs": [
        {
          "output_type": "display_data",
          "data": {
            "application/vnd.livy.statement-meta+json": {
              "spark_pool": null,
              "session_id": null,
              "statement_id": null,
              "state": "cancelled",
              "livy_statement_state": null,
              "queued_time": "2024-03-01T14:39:58.8684199Z",
              "session_start_time": null,
              "execution_start_time": null,
              "execution_finish_time": "2024-03-01T14:41:45.113872Z",
              "spark_jobs": null,
              "parent_msg_id": "ac89af8b-a517-4045-b400-428a925bf87a"
            },
            "text/plain": "StatementMeta(, , , Cancelled, )"
          },
          "metadata": {}
        }
      ],
      "execution_count": null,
      "metadata": {
        "jupyter": {
          "source_hidden": false,
          "outputs_hidden": false
        },
        "nteract": {
          "transient": {
            "deleting": false
          }
        }
      }
    },
    {
      "cell_type": "code",
      "source": [
        "# Assuming we're filtering df1 based on values in 'id' column of df2\r\n",
        "\r\n",
        "# Collect unique 'id' values from df2 into a list\r\n",
        "country_to_filter = df_country.select(\"country_code\").distinct().rdd.flatMap(lambda x: x).collect()\r\n",
        "\r\n",
        "# Filter df1 where 'id' is in the collected list\r\n",
        "filtered_df_air = df_air.filter(df_air[\"country\"].isin(country_to_filter))\r\n",
        "\r\n",
        "\r\n",
        "\r\n"
      ],
      "outputs": [
        {
          "output_type": "display_data",
          "data": {
            "application/vnd.livy.statement-meta+json": {
              "spark_pool": null,
              "session_id": null,
              "statement_id": null,
              "state": "cancelled",
              "livy_statement_state": null,
              "queued_time": "2024-03-01T14:39:58.928471Z",
              "session_start_time": null,
              "execution_start_time": null,
              "execution_finish_time": "2024-03-01T14:41:45.1143267Z",
              "spark_jobs": null,
              "parent_msg_id": "4aff2a14-a231-4776-b1e6-7a21ee9f941e"
            },
            "text/plain": "StatementMeta(, , , Cancelled, )"
          },
          "metadata": {}
        }
      ],
      "execution_count": null,
      "metadata": {
        "jupyter": {
          "source_hidden": false,
          "outputs_hidden": false
        },
        "nteract": {
          "transient": {
            "deleting": false
          }
        }
      }
    },
    {
      "cell_type": "code",
      "source": [
        "# Filter for required parameters\r\n",
        "filtered_df_air.select('parameter').distinct().show()\r\n",
        "param_list=['PM25', 'PM10', 'O3', 'NO2', 'CO']\r\n",
        "filtered_df_air1 = filtered_df_air.filter(filtered_df_air[\"parameter\"].isin(param_list))"
      ],
      "outputs": [
        {
          "output_type": "display_data",
          "data": {
            "application/vnd.livy.statement-meta+json": {
              "spark_pool": null,
              "session_id": null,
              "statement_id": null,
              "state": "cancelled",
              "livy_statement_state": null,
              "queued_time": "2024-03-01T14:39:59.013086Z",
              "session_start_time": null,
              "execution_start_time": null,
              "execution_finish_time": "2024-03-01T14:41:45.1147522Z",
              "spark_jobs": null,
              "parent_msg_id": "86155e75-fb22-42df-9da5-4a9013ea4a2d"
            },
            "text/plain": "StatementMeta(, , , Cancelled, )"
          },
          "metadata": {}
        }
      ],
      "execution_count": null,
      "metadata": {
        "jupyter": {
          "source_hidden": false,
          "outputs_hidden": false
        },
        "nteract": {
          "transient": {
            "deleting": false
          }
        }
      }
    },
    {
      "cell_type": "code",
      "source": [
        "filtered_df_air1.select('parameter').distinct().show()\r\n",
        "filtered_df_air2.dtypes"
      ],
      "outputs": [
        {
          "output_type": "display_data",
          "data": {
            "application/vnd.livy.statement-meta+json": {
              "spark_pool": null,
              "session_id": null,
              "statement_id": null,
              "state": "cancelled",
              "livy_statement_state": null,
              "queued_time": "2024-03-01T14:39:59.1078972Z",
              "session_start_time": null,
              "execution_start_time": null,
              "execution_finish_time": "2024-03-01T14:41:45.1155789Z",
              "spark_jobs": null,
              "parent_msg_id": "928f4705-bc4e-43ce-9f1b-4da6ab99cfcc"
            },
            "text/plain": "StatementMeta(, , , Cancelled, )"
          },
          "metadata": {}
        }
      ],
      "execution_count": null,
      "metadata": {
        "jupyter": {
          "source_hidden": false,
          "outputs_hidden": false
        },
        "nteract": {
          "transient": {
            "deleting": false
          }
        }
      }
    },
    {
      "cell_type": "code",
      "source": [
        "filtered_df_air1 = filtered_df_air.select('city','country','parameter','unit','value','date_utc')\r\n"
      ],
      "outputs": [
        {
          "output_type": "display_data",
          "data": {
            "application/vnd.livy.statement-meta+json": {
              "spark_pool": null,
              "session_id": null,
              "statement_id": null,
              "state": "cancelled",
              "livy_statement_state": null,
              "queued_time": "2024-03-01T14:39:59.1902119Z",
              "session_start_time": null,
              "execution_start_time": null,
              "execution_finish_time": "2024-03-01T14:41:45.1163657Z",
              "spark_jobs": null,
              "parent_msg_id": "dfd3f5c1-615e-450f-95d9-e965bb88dccd"
            },
            "text/plain": "StatementMeta(, , , Cancelled, )"
          },
          "metadata": {}
        }
      ],
      "execution_count": null,
      "metadata": {
        "jupyter": {
          "source_hidden": false,
          "outputs_hidden": false
        },
        "nteract": {
          "transient": {
            "deleting": false
          }
        }
      }
    },
    {
      "cell_type": "code",
      "source": [
        "filtered_df_air2=filtered_df_air1.filter(filtered_df_air1['value'] > 0)"
      ],
      "outputs": [
        {
          "output_type": "display_data",
          "data": {
            "application/vnd.livy.statement-meta+json": {
              "spark_pool": null,
              "session_id": null,
              "statement_id": null,
              "state": "cancelled",
              "livy_statement_state": null,
              "queued_time": "2024-03-01T14:39:59.2466742Z",
              "session_start_time": null,
              "execution_start_time": null,
              "execution_finish_time": "2024-03-01T14:41:45.116811Z",
              "spark_jobs": null,
              "parent_msg_id": "1cf4f5fa-97bb-409c-a672-557c29a0d4b4"
            },
            "text/plain": "StatementMeta(, , , Cancelled, )"
          },
          "metadata": {}
        }
      ],
      "execution_count": null,
      "metadata": {
        "jupyter": {
          "source_hidden": false,
          "outputs_hidden": false
        },
        "nteract": {
          "transient": {
            "deleting": false
          }
        }
      }
    },
    {
      "cell_type": "code",
      "source": [
        "filtered_df_air2.filter(filtered_df_air1['value'] < 0).show()"
      ],
      "outputs": [
        {
          "output_type": "display_data",
          "data": {
            "application/vnd.livy.statement-meta+json": {
              "spark_pool": null,
              "session_id": null,
              "statement_id": null,
              "state": "cancelled",
              "livy_statement_state": null,
              "queued_time": "2024-03-01T14:39:59.290214Z",
              "session_start_time": null,
              "execution_start_time": null,
              "execution_finish_time": "2024-03-01T14:41:45.1171176Z",
              "spark_jobs": null,
              "parent_msg_id": "0a2281be-f20b-4336-9bb7-5561a4654484"
            },
            "text/plain": "StatementMeta(, , , Cancelled, )"
          },
          "metadata": {}
        }
      ],
      "execution_count": null,
      "metadata": {
        "jupyter": {
          "source_hidden": false,
          "outputs_hidden": false
        },
        "nteract": {
          "transient": {
            "deleting": false
          }
        }
      }
    },
    {
      "cell_type": "code",
      "source": [
        "filtered_df_air2.select('date_utc').show(1)"
      ],
      "outputs": [
        {
          "output_type": "display_data",
          "data": {
            "application/vnd.livy.statement-meta+json": {
              "spark_pool": null,
              "session_id": null,
              "statement_id": null,
              "state": "cancelled",
              "livy_statement_state": null,
              "queued_time": "2024-03-01T14:39:59.3499576Z",
              "session_start_time": null,
              "execution_start_time": null,
              "execution_finish_time": "2024-03-01T14:41:45.1173786Z",
              "spark_jobs": null,
              "parent_msg_id": "01b6097c-dcfa-4b77-9758-e258e519e223"
            },
            "text/plain": "StatementMeta(, , , Cancelled, )"
          },
          "metadata": {}
        }
      ],
      "execution_count": null,
      "metadata": {
        "jupyter": {
          "source_hidden": false,
          "outputs_hidden": false
        },
        "nteract": {
          "transient": {
            "deleting": false
          }
        }
      }
    },
    {
      "cell_type": "code",
      "source": [
        "from pyspark.sql.functions import col, to_timestamp, avg, expr\r\n",
        "from pyspark.sql.window import Window\r\n",
        "\r\n",
        "# Ensure 'date_utc' is a datetime type\r\n",
        "#filtered_df_air2 = filtered_df_air2.withColumn(\"date_utc\", to_timestamp(col(\"date_utc\"), \"yyyy-MM-dd'T'HH:mm:ss.SSS'Z''\"))\r\n",
        "filtered_df_air2 = filtered_df_air2.withColumn('date_utc', filtered_df_air2.date_utc.cast('timestamp'))\r\n",
        "filtered_df_air2 = filtered_df_air2.withColumn('value', filtered_df_air2.value.cast('int'))"
      ],
      "outputs": [
        {
          "output_type": "display_data",
          "data": {
            "application/vnd.livy.statement-meta+json": {
              "spark_pool": null,
              "session_id": null,
              "statement_id": null,
              "state": "cancelled",
              "livy_statement_state": null,
              "queued_time": "2024-03-01T14:39:59.4027484Z",
              "session_start_time": null,
              "execution_start_time": null,
              "execution_finish_time": "2024-03-01T14:41:45.1177088Z",
              "spark_jobs": null,
              "parent_msg_id": "e7776a04-39f2-4969-9d9b-ceb87933f1b7"
            },
            "text/plain": "StatementMeta(, , , Cancelled, )"
          },
          "metadata": {}
        }
      ],
      "execution_count": null,
      "metadata": {
        "jupyter": {
          "source_hidden": false,
          "outputs_hidden": false
        },
        "nteract": {
          "transient": {
            "deleting": false
          }
        }
      }
    },
    {
      "cell_type": "code",
      "source": [
        "# Define the window specification for a 24-hour rolling window\r\n",
        "#window_spec = Window.partitionBy(\"city\", \"parameter\").orderBy(\"date_utc\").rangeBetween(-86400, 0)\r\n",
        "\r\n"
      ],
      "outputs": [
        {
          "output_type": "display_data",
          "data": {
            "application/vnd.livy.statement-meta+json": {
              "spark_pool": null,
              "session_id": null,
              "statement_id": null,
              "state": "cancelled",
              "livy_statement_state": null,
              "queued_time": "2024-03-01T14:39:59.4904066Z",
              "session_start_time": null,
              "execution_start_time": null,
              "execution_finish_time": "2024-03-01T14:41:45.1179805Z",
              "spark_jobs": null,
              "parent_msg_id": "bdc891b5-c0e1-4709-97ed-03f32a012aa5"
            },
            "text/plain": "StatementMeta(, , , Cancelled, )"
          },
          "metadata": {}
        }
      ],
      "execution_count": null,
      "metadata": {
        "jupyter": {
          "source_hidden": false,
          "outputs_hidden": false
        },
        "nteract": {
          "transient": {
            "deleting": false
          }
        }
      }
    },
    {
      "cell_type": "code",
      "source": [
        "from pyspark.sql.functions import expr\r\n",
        "from pyspark.sql import functions as F\r\n",
        "days = lambda i: i * 86400\r\n",
        "window_spec = Window \\\r\n",
        "    .partitionBy(\"city\", \"parameter\") \\\r\n",
        "    .orderBy(F.col(\"date_utc\").cast('long')) \\\r\n",
        "    .rangeBetween(-days(1), 0)\r\n",
        "\r\n",
        "\r\n",
        "    #orderBy(F.col(\"timestampGMT\").cast('long'))"
      ],
      "outputs": [
        {
          "output_type": "display_data",
          "data": {
            "application/vnd.livy.statement-meta+json": {
              "spark_pool": null,
              "session_id": null,
              "statement_id": null,
              "state": "cancelled",
              "livy_statement_state": null,
              "queued_time": "2024-03-01T14:39:59.5368654Z",
              "session_start_time": null,
              "execution_start_time": null,
              "execution_finish_time": "2024-03-01T14:41:45.1182515Z",
              "spark_jobs": null,
              "parent_msg_id": "7ec80c63-7c9c-4024-94af-8b00f25618fa"
            },
            "text/plain": "StatementMeta(, , , Cancelled, )"
          },
          "metadata": {}
        }
      ],
      "execution_count": null,
      "metadata": {
        "jupyter": {
          "source_hidden": false,
          "outputs_hidden": false
        },
        "nteract": {
          "transient": {
            "deleting": false
          }
        }
      }
    },
    {
      "cell_type": "code",
      "source": [
        "# Calculate the rolling average\r\n",
        "df_rolling_avg = filtered_df_air2.withColumn(\"24hr_rolling_avg\", avg(\"value\").over(window_spec))\r\n",
        "\r\n"
      ],
      "outputs": [
        {
          "output_type": "display_data",
          "data": {
            "application/vnd.livy.statement-meta+json": {
              "spark_pool": "trainingsparkpl",
              "session_id": "0",
              "statement_id": 291,
              "state": "finished",
              "livy_statement_state": "available",
              "queued_time": "2024-03-01T14:47:37.4445904Z",
              "session_start_time": null,
              "execution_start_time": "2024-03-01T14:47:37.5754026Z",
              "execution_finish_time": "2024-03-01T14:47:37.7445246Z",
              "spark_jobs": null,
              "parent_msg_id": "e34c2b8d-c7cf-4bbf-a1e5-4ffa84d023ff"
            },
            "text/plain": "StatementMeta(trainingsparkpl, 0, 291, Finished, Available)"
          },
          "metadata": {}
        }
      ],
      "execution_count": 290,
      "metadata": {
        "jupyter": {
          "source_hidden": false,
          "outputs_hidden": false
        },
        "nteract": {
          "transient": {
            "deleting": false
          }
        }
      }
    },
    {
      "cell_type": "code",
      "source": [
        "# Writing Rolling Avg to DB\r\n",
        "\r\n",
        "\r\n",
        "df_rolling_avg.write.jdbc(url=url, table='air_roll_avg', mode=\"append\", properties=properties)"
      ],
      "outputs": [
        {
          "output_type": "display_data",
          "data": {
            "application/vnd.livy.statement-meta+json": {
              "spark_pool": "trainingsparkpl",
              "session_id": "0",
              "statement_id": 295,
              "state": "finished",
              "livy_statement_state": "cancelled",
              "queued_time": "2024-03-01T14:59:17.9357861Z",
              "session_start_time": null,
              "execution_start_time": "2024-03-01T14:59:18.0752304Z",
              "execution_finish_time": "2024-03-01T15:19:09.5658277Z",
              "spark_jobs": null,
              "parent_msg_id": "b85fafb1-2ce2-44cf-a07f-a78c2e7f5b69"
            },
            "text/plain": "StatementMeta(trainingsparkpl, 0, 295, Finished, Cancelled)"
          },
          "metadata": {}
        }
      ],
      "execution_count": 294,
      "metadata": {
        "jupyter": {
          "source_hidden": false,
          "outputs_hidden": false
        },
        "nteract": {
          "transient": {
            "deleting": false
          }
        }
      }
    },
    {
      "cell_type": "code",
      "source": [
        "df_rolling_avg.show()"
      ],
      "outputs": [
        {
          "output_type": "display_data",
          "data": {
            "application/vnd.livy.statement-meta+json": {
              "spark_pool": "trainingsparkpl",
              "session_id": "0",
              "statement_id": 304,
              "state": "finished",
              "livy_statement_state": "available",
              "queued_time": "2024-03-01T15:24:50.8921671Z",
              "session_start_time": null,
              "execution_start_time": "2024-03-01T15:24:51.0174607Z",
              "execution_finish_time": "2024-03-01T15:24:52.1511524Z",
              "spark_jobs": null,
              "parent_msg_id": "a92c1b2c-6a93-4df0-b854-45f6aa7903b5"
            },
            "text/plain": "StatementMeta(trainingsparkpl, 0, 304, Finished, Available)"
          },
          "metadata": {}
        },
        {
          "output_type": "stream",
          "name": "stdout",
          "text": [
            "+--------+-------+---------+-----+-----+-------------------+----------------+\n|    city|country|parameter| unit|value|           date_utc|24hr_rolling_avg|\n+--------+-------+---------+-----+-----+-------------------+----------------+\n|Aberdeen|     GB|      no2|µg/m³|   39|2021-10-06 13:00:00|            39.5|\n|Aberdeen|     GB|      no2|µg/m³|   40|2021-10-06 13:00:00|            39.5|\n|Aberdeen|     GB|      no2|µg/m³|   37|2021-10-06 14:00:00|            42.5|\n|Aberdeen|     GB|      no2|µg/m³|   54|2021-10-06 14:00:00|            42.5|\n|Aberdeen|     GB|      no2|µg/m³|   53|2021-10-06 16:00:00|            43.0|\n|Aberdeen|     GB|      no2|µg/m³|   25|2021-10-06 16:00:00|            43.0|\n|Aberdeen|     GB|      no2|µg/m³|   53|2021-10-06 16:00:00|            43.0|\n|Aberdeen|     GB|      no2|µg/m³|   24|2021-10-06 17:00:00|          40.625|\n|Aberdeen|     GB|      no2|µg/m³|   34|2021-10-06 18:00:00|            37.5|\n|Aberdeen|     GB|      no2|µg/m³|   16|2021-10-06 18:00:00|            37.5|\n|    Adur|     GB|      no2|µg/m³|    5|2021-10-06 00:00:00|             5.0|\n|    Adur|     GB|      no2|µg/m³|    5|2021-10-06 00:00:00|             5.0|\n|    Adur|     GB|      no2|µg/m³|    5|2021-10-06 00:00:00|             5.0|\n|    Adur|     GB|      no2|µg/m³|    5|2021-10-06 00:00:00|             5.0|\n|    Adur|     GB|      no2|µg/m³|    5|2021-10-06 00:00:00|             5.0|\n|    Adur|     GB|      no2|µg/m³|    5|2021-10-06 00:00:00|             5.0|\n|    Adur|     GB|      no2|µg/m³|   11|2021-10-06 01:00:00|             8.0|\n|    Adur|     GB|      no2|µg/m³|   11|2021-10-06 01:00:00|             8.0|\n|    Adur|     GB|      no2|µg/m³|   11|2021-10-06 01:00:00|             8.0|\n|    Adur|     GB|      no2|µg/m³|   11|2021-10-06 01:00:00|             8.0|\n+--------+-------+---------+-----+-----+-------------------+----------------+\nonly showing top 20 rows\n\n"
          ]
        }
      ],
      "execution_count": 303,
      "metadata": {
        "jupyter": {
          "source_hidden": false,
          "outputs_hidden": false
        },
        "nteract": {
          "transient": {
            "deleting": false
          }
        }
      }
    },
    {
      "cell_type": "code",
      "source": [
        "# AQI calculation function\r\n",
        "from pyspark.sql.functions import udf, col\r\n",
        "from pyspark.sql.types import DoubleType\r\n",
        "def calculate_aqi(pm_obs, breakpoint_low, breakpoint_high, aqi_low, aqi_high):\r\n",
        "    aqi = ((aqi_high - aqi_low) / (breakpoint_high - breakpoint_low)) * (pm_obs - breakpoint_low) + aqi_low\r\n",
        "    return aqi\r\n",
        "\r\n",
        "# Register the function as a UDF\r\n",
        "calculate_aqi_udf = udf(calculate_aqi, DoubleType())\r\n",
        "\r\n",
        "\r\n",
        "# Define the AQI breakpoints and AQI values for PM2.5\r\n",
        "breakpoint_low_PM25 = 12.1\r\n",
        "breakpoint_high_PM25 = 35.4\r\n",
        "aqi_low_PM25 = 51\r\n",
        "aqi_high_PM25 = 100\r\n",
        "\r\n",
        "\r\n",
        "# Define the AQI breakpoints and AQI values for PM10\r\n",
        "breakpoint_low_PM10 = 55.0\r\n",
        "breakpoint_high_PM10 = 154.0\r\n",
        "aqi_low_PM10= 51\r\n",
        "aqi_high_PM10 = 100\r\n",
        "\r\n"
      ],
      "outputs": [
        {
          "output_type": "display_data",
          "data": {
            "application/vnd.livy.statement-meta+json": {
              "spark_pool": "trainingsparkpl",
              "session_id": "0",
              "statement_id": 315,
              "state": "finished",
              "livy_statement_state": "available",
              "queued_time": "2024-03-01T15:31:30.2728375Z",
              "session_start_time": null,
              "execution_start_time": "2024-03-01T15:31:30.3944784Z",
              "execution_finish_time": "2024-03-01T15:31:30.5770641Z",
              "spark_jobs": null,
              "parent_msg_id": "53f8feb0-c46a-4daf-8f06-85b536c72077"
            },
            "text/plain": "StatementMeta(trainingsparkpl, 0, 315, Finished, Available)"
          },
          "metadata": {}
        }
      ],
      "execution_count": 314,
      "metadata": {
        "jupyter": {
          "source_hidden": false,
          "outputs_hidden": false
        },
        "nteract": {
          "transient": {
            "deleting": false
          }
        }
      }
    },
    {
      "cell_type": "code",
      "source": [
        "df_rolling_avg_PM25=df_rolling_avg.filter(df_rolling_avg['parameter'] == 'PM25')\r\n",
        "df_rolling_avg_PM10=df_rolling_avg.filter(df_rolling_avg['parameter'] == 'PM10')"
      ],
      "outputs": [
        {
          "output_type": "display_data",
          "data": {
            "application/vnd.livy.statement-meta+json": {
              "spark_pool": "trainingsparkpl",
              "session_id": "0",
              "statement_id": 312,
              "state": "finished",
              "livy_statement_state": "available",
              "queued_time": "2024-03-01T15:29:14.9593758Z",
              "session_start_time": null,
              "execution_start_time": "2024-03-01T15:29:15.1413479Z",
              "execution_finish_time": "2024-03-01T15:29:15.318688Z",
              "spark_jobs": null,
              "parent_msg_id": "7d347764-a310-44e9-9b7a-74a76e24ec39"
            },
            "text/plain": "StatementMeta(trainingsparkpl, 0, 312, Finished, Available)"
          },
          "metadata": {}
        }
      ],
      "execution_count": 311,
      "metadata": {
        "jupyter": {
          "source_hidden": false,
          "outputs_hidden": false
        },
        "nteract": {
          "transient": {
            "deleting": false
          }
        }
      }
    },
    {
      "cell_type": "code",
      "source": [
        "# Apply the UDF to calculate the AQI for PM2.5\r\n",
        "df_aqi_pm25 = df_rolling_avg_PM25.withColumn(\"aqi_pm25\", calculate_aqi_udf(\r\n",
        "    col(\"24hr_rolling_avg\"), \r\n",
        "    lit(breakpoint_low_PM25), \r\n",
        "    lit(breakpoint_high_PM25), \r\n",
        "    lit(aqi_low_PM25), \r\n",
        "    lit(aqi_high_PM25)\r\n",
        "))"
      ],
      "outputs": [
        {
          "output_type": "display_data",
          "data": {
            "application/vnd.livy.statement-meta+json": {
              "spark_pool": "trainingsparkpl",
              "session_id": "0",
              "statement_id": 313,
              "state": "finished",
              "livy_statement_state": "available",
              "queued_time": "2024-03-01T15:29:23.3696522Z",
              "session_start_time": null,
              "execution_start_time": "2024-03-01T15:29:23.4998842Z",
              "execution_finish_time": "2024-03-01T15:29:23.6753514Z",
              "spark_jobs": null,
              "parent_msg_id": "8568d38e-c05c-4918-b163-e97a4590d4e5"
            },
            "text/plain": "StatementMeta(trainingsparkpl, 0, 313, Finished, Available)"
          },
          "metadata": {}
        }
      ],
      "execution_count": 312,
      "metadata": {
        "jupyter": {
          "source_hidden": false,
          "outputs_hidden": false
        },
        "nteract": {
          "transient": {
            "deleting": false
          }
        }
      }
    },
    {
      "cell_type": "code",
      "source": [
        "df_aqi_pm25.show()"
      ],
      "outputs": [
        {
          "output_type": "display_data",
          "data": {
            "application/vnd.livy.statement-meta+json": {
              "spark_pool": "trainingsparkpl",
              "session_id": "0",
              "statement_id": 318,
              "state": "finished",
              "livy_statement_state": "available",
              "queued_time": "2024-03-01T15:32:10.1352072Z",
              "session_start_time": null,
              "execution_start_time": "2024-03-01T15:32:10.3216659Z",
              "execution_finish_time": "2024-03-01T15:32:10.9490439Z",
              "spark_jobs": null,
              "parent_msg_id": "861bb96b-7ff3-4150-9c76-59599d73284b"
            },
            "text/plain": "StatementMeta(trainingsparkpl, 0, 318, Finished, Available)"
          },
          "metadata": {}
        },
        {
          "output_type": "stream",
          "name": "stdout",
          "text": [
            "+-----+-------+---------+-----+-----+-------------------+------------------+------------------+\n| city|country|parameter| unit|value|           date_utc|  24hr_rolling_avg|          aqi_pm25|\n+-----+-------+---------+-----+-----+-------------------+------------------+------------------+\n|  Ain|     FR|     pm25|µg/m³|    3|2021-10-06 09:00:00|               3.0|31.862660944206006|\n|  Ain|     FR|     pm25|µg/m³|    4|2021-10-06 10:00:00|               3.5| 32.91416309012875|\n|  Ain|     FR|     pm25|µg/m³|    4|2021-10-06 11:00:00|3.6666666666666665|33.264663805436335|\n|  Ain|     FR|     pm25|µg/m³|    3|2021-10-06 12:00:00|               3.5| 32.91416309012875|\n|  Ain|     FR|     pm25|µg/m³|    2|2021-10-06 13:00:00|               3.0|31.862660944206006|\n|  Ain|     FR|     pm25|µg/m³|    2|2021-10-06 13:00:00|               3.0|31.862660944206006|\n|  Ain|     FR|     pm25|µg/m³|    2|2021-10-06 14:00:00|              2.75|31.336909871244632|\n|  Ain|     FR|     pm25|µg/m³|    2|2021-10-06 14:00:00|              2.75|31.336909871244632|\n|  Ain|     FR|     pm25|µg/m³|    2|2021-10-06 15:00:00|2.6666666666666665| 31.16165951359084|\n|  Ain|     FR|     pm25|µg/m³|    2|2021-10-06 16:00:00|               2.6| 31.02145922746781|\n|Aisne|     FR|     pm25|µg/m³|    3|2021-10-06 09:00:00|               3.0|31.862660944206006|\n|Aisne|     FR|     pm25|µg/m³|    3|2021-10-06 10:00:00|               3.0|31.862660944206006|\n|Aisne|     FR|     pm25|µg/m³|    6|2021-10-06 11:00:00|               4.5| 35.01716738197425|\n|Aisne|     FR|     pm25|µg/m³|    6|2021-10-06 11:00:00|               4.5| 35.01716738197425|\n|Aisne|     FR|     pm25|µg/m³|    4|2021-10-06 12:00:00| 4.333333333333333|34.666666666666664|\n|Aisne|     FR|     pm25|µg/m³|    4|2021-10-06 12:00:00| 4.333333333333333|34.666666666666664|\n|Aisne|     FR|     pm25|µg/m³|    5|2021-10-06 13:00:00|               4.5| 35.01716738197425|\n|Aisne|     FR|     pm25|µg/m³|    5|2021-10-06 13:00:00|               4.5| 35.01716738197425|\n|Aisne|     FR|     pm25|µg/m³|    5|2021-10-06 14:00:00|               4.6|35.227467811158796|\n|Aisne|     FR|     pm25|µg/m³|    5|2021-10-06 14:00:00|               4.6|35.227467811158796|\n+-----+-------+---------+-----+-----+-------------------+------------------+------------------+\nonly showing top 20 rows\n\n"
          ]
        }
      ],
      "execution_count": 317,
      "metadata": {
        "jupyter": {
          "source_hidden": false,
          "outputs_hidden": false
        },
        "nteract": {
          "transient": {
            "deleting": false
          }
        }
      }
    },
    {
      "cell_type": "code",
      "source": [
        "df_aqi_pm10 = df_rolling_avg_PM10.withColumn(\"aqi_pm10\", calculate_aqi_udf(\r\n",
        "    col(\"24hr_rolling_avg\"), \r\n",
        "    lit(breakpoint_low_PM10), \r\n",
        "    lit(breakpoint_high_PM10), \r\n",
        "    lit(aqi_low_PM10), \r\n",
        "    lit(aqi_high_PM10)\r\n",
        "))"
      ],
      "outputs": [
        {
          "output_type": "display_data",
          "data": {
            "application/vnd.livy.statement-meta+json": {
              "spark_pool": "trainingsparkpl",
              "session_id": "0",
              "statement_id": 319,
              "state": "finished",
              "livy_statement_state": "available",
              "queued_time": "2024-03-01T15:34:34.9284432Z",
              "session_start_time": null,
              "execution_start_time": "2024-03-01T15:34:35.0611291Z",
              "execution_finish_time": "2024-03-01T15:34:35.2393396Z",
              "spark_jobs": null,
              "parent_msg_id": "576dcd05-a12b-4294-96ab-9aaac530f91b"
            },
            "text/plain": "StatementMeta(trainingsparkpl, 0, 319, Finished, Available)"
          },
          "metadata": {}
        }
      ],
      "execution_count": 318,
      "metadata": {
        "jupyter": {
          "source_hidden": false,
          "outputs_hidden": false
        },
        "nteract": {
          "transient": {
            "deleting": false
          }
        }
      }
    },
    {
      "cell_type": "code",
      "source": [
        "df_aqi_pm10.show()"
      ],
      "outputs": [
        {
          "output_type": "display_data",
          "data": {
            "application/vnd.livy.statement-meta+json": {
              "spark_pool": "trainingsparkpl",
              "session_id": "0",
              "statement_id": 320,
              "state": "finished",
              "livy_statement_state": "available",
              "queued_time": "2024-03-01T15:34:36.263381Z",
              "session_start_time": null,
              "execution_start_time": "2024-03-01T15:34:36.4204594Z",
              "execution_finish_time": "2024-03-01T15:34:37.5710214Z",
              "spark_jobs": null,
              "parent_msg_id": "1e57fa18-6e17-4715-baf2-52a52708a30f"
            },
            "text/plain": "StatementMeta(trainingsparkpl, 0, 320, Finished, Available)"
          },
          "metadata": {}
        },
        {
          "output_type": "stream",
          "name": "stdout",
          "text": [
            "+---------------+-------+---------+-----+-----+-------------------+-----------------+------------------+\n|           city|country|parameter| unit|value|           date_utc| 24hr_rolling_avg|          aqi_pm10|\n+---------------+-------+---------+-----+-----+-------------------+-----------------+------------------+\n|            Ain|     FR|     pm10|µg/m³|    8|2021-10-06 09:00:00|              7.0|27.242424242424242|\n|            Ain|     FR|     pm10|µg/m³|    6|2021-10-06 09:00:00|              7.0|27.242424242424242|\n|            Ain|     FR|     pm10|µg/m³|   10|2021-10-06 10:00:00|              8.0|27.737373737373737|\n|            Ain|     FR|     pm10|µg/m³|    5|2021-10-06 11:00:00|              7.0|27.242424242424242|\n|            Ain|     FR|     pm10|µg/m³|    8|2021-10-06 11:00:00|              7.0|27.242424242424242|\n|            Ain|     FR|     pm10|µg/m³|    5|2021-10-06 11:00:00|              7.0|27.242424242424242|\n|            Ain|     FR|     pm10|µg/m³|    8|2021-10-06 12:00:00|            7.375|  27.4280303030303|\n|            Ain|     FR|     pm10|µg/m³|    9|2021-10-06 12:00:00|            7.375|  27.4280303030303|\n|            Ain|     FR|     pm10|µg/m³|    6|2021-10-06 13:00:00|             7.25|27.366161616161616|\n|            Ain|     FR|     pm10|µg/m³|    6|2021-10-06 13:00:00|             7.25|27.366161616161616|\n|            Ain|     FR|     pm10|µg/m³|    8|2021-10-06 13:00:00|             7.25|27.366161616161616|\n|            Ain|     FR|     pm10|µg/m³|    8|2021-10-06 13:00:00|             7.25|27.366161616161616|\n|            Ain|     FR|     pm10|µg/m³|    4|2021-10-06 14:00:00|6.785714285714286|27.136363636363633|\n|            Ain|     FR|     pm10|µg/m³|    4|2021-10-06 14:00:00|6.785714285714286|27.136363636363633|\n|            Ain|     FR|     pm10|µg/m³|    5|2021-10-06 15:00:00|             6.75| 27.11868686868687|\n|            Ain|     FR|     pm10|µg/m³|    8|2021-10-06 15:00:00|             6.75| 27.11868686868687|\n|            Ain|     FR|     pm10|µg/m³|    5|2021-10-06 16:00:00|6.647058823529412|27.067736185383243|\n|          Aisne|     FR|     pm10|µg/m³|    6|2021-10-06 11:00:00|              6.0|26.747474747474747|\n|          Aisne|     FR|     pm10|µg/m³|    6|2021-10-06 12:00:00|              6.0|26.747474747474747|\n|Alpes-Maritimes|     FR|     pm10|µg/m³|   46|2021-10-06 09:00:00|             30.0| 38.62626262626263|\n+---------------+-------+---------+-----+-----+-------------------+-----------------+------------------+\nonly showing top 20 rows\n\n"
          ]
        }
      ],
      "execution_count": 319,
      "metadata": {
        "jupyter": {
          "source_hidden": false,
          "outputs_hidden": false
        },
        "nteract": {
          "transient": {
            "deleting": false
          }
        }
      }
    },
    {
      "cell_type": "code",
      "source": [
        "#Loading the AQI tables into the DB.\r\n",
        "df_aqi_pm10.write.jdbc(url=url, table='air_aqi_pm10', mode=\"append\", properties=properties)\r\n",
        "df_aqi_pm25.write.jdbc(url=url, table='air_aqi_pm25', mode=\"append\", properties=properties)"
      ],
      "outputs": [
        {
          "output_type": "display_data",
          "data": {
            "application/vnd.livy.statement-meta+json": {
              "spark_pool": "trainingsparkpl",
              "session_id": "0",
              "statement_id": 321,
              "state": "finished",
              "livy_statement_state": "available",
              "queued_time": "2024-03-01T15:37:48.8629977Z",
              "session_start_time": null,
              "execution_start_time": "2024-03-01T15:37:49.0348566Z",
              "execution_finish_time": "2024-03-01T15:46:39.9688126Z",
              "spark_jobs": null,
              "parent_msg_id": "49df9372-a188-4eac-b874-3e965f5a8a53"
            },
            "text/plain": "StatementMeta(trainingsparkpl, 0, 321, Finished, Available)"
          },
          "metadata": {}
        }
      ],
      "execution_count": 320,
      "metadata": {
        "jupyter": {
          "source_hidden": false,
          "outputs_hidden": false
        },
        "nteract": {
          "transient": {
            "deleting": false
          }
        }
      }
    },
    {
      "cell_type": "code",
      "source": [],
      "outputs": [],
      "execution_count": null,
      "metadata": {
        "jupyter": {
          "source_hidden": false,
          "outputs_hidden": false
        },
        "nteract": {
          "transient": {
            "deleting": false
          }
        }
      }
    }
  ],
  "metadata": {
    "kernelspec": {
      "name": "synapse_pyspark",
      "language": "Python",
      "display_name": "Synapse PySpark"
    },
    "language_info": {
      "name": "python"
    },
    "kernel_info": {
      "name": "synapse_pyspark"
    },
    "description": null,
    "save_output": true,
    "synapse_widget": {
      "version": "0.1",
      "state": {}
    }
  },
  "nbformat": 4,
  "nbformat_minor": 2
}